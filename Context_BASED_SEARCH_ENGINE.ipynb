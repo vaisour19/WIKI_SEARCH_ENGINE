{
  "nbformat": 4,
  "nbformat_minor": 0,
  "metadata": {
    "colab": {
      "provenance": [],
      "gpuType": "T4",
      "authorship_tag": "ABX9TyMNmhbTN+PTnvXAeg73uied",
      "include_colab_link": true
    },
    "kernelspec": {
      "name": "python3",
      "display_name": "Python 3"
    },
    "language_info": {
      "name": "python"
    },
    "accelerator": "GPU",
    "widgets": {
      "application/vnd.jupyter.widget-state+json": {
        "47335d23a6ab46038af03ccb27b89d25": {
          "model_module": "@jupyter-widgets/controls",
          "model_name": "HBoxModel",
          "model_module_version": "1.5.0",
          "state": {
            "_dom_classes": [],
            "_model_module": "@jupyter-widgets/controls",
            "_model_module_version": "1.5.0",
            "_model_name": "HBoxModel",
            "_view_count": null,
            "_view_module": "@jupyter-widgets/controls",
            "_view_module_version": "1.5.0",
            "_view_name": "HBoxView",
            "box_style": "",
            "children": [
              "IPY_MODEL_7cbfd58debf84ad8ad95820278ece7c0",
              "IPY_MODEL_f74a3020d6ee4441980281bd08a391ea",
              "IPY_MODEL_c275ddeab64946b3bd5aaf98b47b6b47"
            ],
            "layout": "IPY_MODEL_dbf0c68bc3e743558298e7c5457bd3dc"
          }
        },
        "7cbfd58debf84ad8ad95820278ece7c0": {
          "model_module": "@jupyter-widgets/controls",
          "model_name": "HTMLModel",
          "model_module_version": "1.5.0",
          "state": {
            "_dom_classes": [],
            "_model_module": "@jupyter-widgets/controls",
            "_model_module_version": "1.5.0",
            "_model_name": "HTMLModel",
            "_view_count": null,
            "_view_module": "@jupyter-widgets/controls",
            "_view_module_version": "1.5.0",
            "_view_name": "HTMLView",
            "description": "",
            "description_tooltip": null,
            "layout": "IPY_MODEL_c02d0bdbf4cf453a822c1ad5156db6c0",
            "placeholder": "​",
            "style": "IPY_MODEL_bf94cc26715040a88e2af159ffa95946",
            "value": "Batches: 100%"
          }
        },
        "f74a3020d6ee4441980281bd08a391ea": {
          "model_module": "@jupyter-widgets/controls",
          "model_name": "FloatProgressModel",
          "model_module_version": "1.5.0",
          "state": {
            "_dom_classes": [],
            "_model_module": "@jupyter-widgets/controls",
            "_model_module_version": "1.5.0",
            "_model_name": "FloatProgressModel",
            "_view_count": null,
            "_view_module": "@jupyter-widgets/controls",
            "_view_module_version": "1.5.0",
            "_view_name": "ProgressView",
            "bar_style": "success",
            "description": "",
            "description_tooltip": null,
            "layout": "IPY_MODEL_b9c423caa7ba4a0dae35bbc0b6da6bf7",
            "max": 5300,
            "min": 0,
            "orientation": "horizontal",
            "style": "IPY_MODEL_49f2d8ded3334622999a5f18b0ea8b92",
            "value": 5300
          }
        },
        "c275ddeab64946b3bd5aaf98b47b6b47": {
          "model_module": "@jupyter-widgets/controls",
          "model_name": "HTMLModel",
          "model_module_version": "1.5.0",
          "state": {
            "_dom_classes": [],
            "_model_module": "@jupyter-widgets/controls",
            "_model_module_version": "1.5.0",
            "_model_name": "HTMLModel",
            "_view_count": null,
            "_view_module": "@jupyter-widgets/controls",
            "_view_module_version": "1.5.0",
            "_view_name": "HTMLView",
            "description": "",
            "description_tooltip": null,
            "layout": "IPY_MODEL_4256ad3d6b9a4c2c96704ca774821eb2",
            "placeholder": "​",
            "style": "IPY_MODEL_2af1fe3ac20f4e4487089456e0ce78a4",
            "value": " 5300/5300 [01:47&lt;00:00, 127.18it/s]"
          }
        },
        "dbf0c68bc3e743558298e7c5457bd3dc": {
          "model_module": "@jupyter-widgets/base",
          "model_name": "LayoutModel",
          "model_module_version": "1.2.0",
          "state": {
            "_model_module": "@jupyter-widgets/base",
            "_model_module_version": "1.2.0",
            "_model_name": "LayoutModel",
            "_view_count": null,
            "_view_module": "@jupyter-widgets/base",
            "_view_module_version": "1.2.0",
            "_view_name": "LayoutView",
            "align_content": null,
            "align_items": null,
            "align_self": null,
            "border": null,
            "bottom": null,
            "display": null,
            "flex": null,
            "flex_flow": null,
            "grid_area": null,
            "grid_auto_columns": null,
            "grid_auto_flow": null,
            "grid_auto_rows": null,
            "grid_column": null,
            "grid_gap": null,
            "grid_row": null,
            "grid_template_areas": null,
            "grid_template_columns": null,
            "grid_template_rows": null,
            "height": null,
            "justify_content": null,
            "justify_items": null,
            "left": null,
            "margin": null,
            "max_height": null,
            "max_width": null,
            "min_height": null,
            "min_width": null,
            "object_fit": null,
            "object_position": null,
            "order": null,
            "overflow": null,
            "overflow_x": null,
            "overflow_y": null,
            "padding": null,
            "right": null,
            "top": null,
            "visibility": null,
            "width": null
          }
        },
        "c02d0bdbf4cf453a822c1ad5156db6c0": {
          "model_module": "@jupyter-widgets/base",
          "model_name": "LayoutModel",
          "model_module_version": "1.2.0",
          "state": {
            "_model_module": "@jupyter-widgets/base",
            "_model_module_version": "1.2.0",
            "_model_name": "LayoutModel",
            "_view_count": null,
            "_view_module": "@jupyter-widgets/base",
            "_view_module_version": "1.2.0",
            "_view_name": "LayoutView",
            "align_content": null,
            "align_items": null,
            "align_self": null,
            "border": null,
            "bottom": null,
            "display": null,
            "flex": null,
            "flex_flow": null,
            "grid_area": null,
            "grid_auto_columns": null,
            "grid_auto_flow": null,
            "grid_auto_rows": null,
            "grid_column": null,
            "grid_gap": null,
            "grid_row": null,
            "grid_template_areas": null,
            "grid_template_columns": null,
            "grid_template_rows": null,
            "height": null,
            "justify_content": null,
            "justify_items": null,
            "left": null,
            "margin": null,
            "max_height": null,
            "max_width": null,
            "min_height": null,
            "min_width": null,
            "object_fit": null,
            "object_position": null,
            "order": null,
            "overflow": null,
            "overflow_x": null,
            "overflow_y": null,
            "padding": null,
            "right": null,
            "top": null,
            "visibility": null,
            "width": null
          }
        },
        "bf94cc26715040a88e2af159ffa95946": {
          "model_module": "@jupyter-widgets/controls",
          "model_name": "DescriptionStyleModel",
          "model_module_version": "1.5.0",
          "state": {
            "_model_module": "@jupyter-widgets/controls",
            "_model_module_version": "1.5.0",
            "_model_name": "DescriptionStyleModel",
            "_view_count": null,
            "_view_module": "@jupyter-widgets/base",
            "_view_module_version": "1.2.0",
            "_view_name": "StyleView",
            "description_width": ""
          }
        },
        "b9c423caa7ba4a0dae35bbc0b6da6bf7": {
          "model_module": "@jupyter-widgets/base",
          "model_name": "LayoutModel",
          "model_module_version": "1.2.0",
          "state": {
            "_model_module": "@jupyter-widgets/base",
            "_model_module_version": "1.2.0",
            "_model_name": "LayoutModel",
            "_view_count": null,
            "_view_module": "@jupyter-widgets/base",
            "_view_module_version": "1.2.0",
            "_view_name": "LayoutView",
            "align_content": null,
            "align_items": null,
            "align_self": null,
            "border": null,
            "bottom": null,
            "display": null,
            "flex": null,
            "flex_flow": null,
            "grid_area": null,
            "grid_auto_columns": null,
            "grid_auto_flow": null,
            "grid_auto_rows": null,
            "grid_column": null,
            "grid_gap": null,
            "grid_row": null,
            "grid_template_areas": null,
            "grid_template_columns": null,
            "grid_template_rows": null,
            "height": null,
            "justify_content": null,
            "justify_items": null,
            "left": null,
            "margin": null,
            "max_height": null,
            "max_width": null,
            "min_height": null,
            "min_width": null,
            "object_fit": null,
            "object_position": null,
            "order": null,
            "overflow": null,
            "overflow_x": null,
            "overflow_y": null,
            "padding": null,
            "right": null,
            "top": null,
            "visibility": null,
            "width": null
          }
        },
        "49f2d8ded3334622999a5f18b0ea8b92": {
          "model_module": "@jupyter-widgets/controls",
          "model_name": "ProgressStyleModel",
          "model_module_version": "1.5.0",
          "state": {
            "_model_module": "@jupyter-widgets/controls",
            "_model_module_version": "1.5.0",
            "_model_name": "ProgressStyleModel",
            "_view_count": null,
            "_view_module": "@jupyter-widgets/base",
            "_view_module_version": "1.2.0",
            "_view_name": "StyleView",
            "bar_color": null,
            "description_width": ""
          }
        },
        "4256ad3d6b9a4c2c96704ca774821eb2": {
          "model_module": "@jupyter-widgets/base",
          "model_name": "LayoutModel",
          "model_module_version": "1.2.0",
          "state": {
            "_model_module": "@jupyter-widgets/base",
            "_model_module_version": "1.2.0",
            "_model_name": "LayoutModel",
            "_view_count": null,
            "_view_module": "@jupyter-widgets/base",
            "_view_module_version": "1.2.0",
            "_view_name": "LayoutView",
            "align_content": null,
            "align_items": null,
            "align_self": null,
            "border": null,
            "bottom": null,
            "display": null,
            "flex": null,
            "flex_flow": null,
            "grid_area": null,
            "grid_auto_columns": null,
            "grid_auto_flow": null,
            "grid_auto_rows": null,
            "grid_column": null,
            "grid_gap": null,
            "grid_row": null,
            "grid_template_areas": null,
            "grid_template_columns": null,
            "grid_template_rows": null,
            "height": null,
            "justify_content": null,
            "justify_items": null,
            "left": null,
            "margin": null,
            "max_height": null,
            "max_width": null,
            "min_height": null,
            "min_width": null,
            "object_fit": null,
            "object_position": null,
            "order": null,
            "overflow": null,
            "overflow_x": null,
            "overflow_y": null,
            "padding": null,
            "right": null,
            "top": null,
            "visibility": null,
            "width": null
          }
        },
        "2af1fe3ac20f4e4487089456e0ce78a4": {
          "model_module": "@jupyter-widgets/controls",
          "model_name": "DescriptionStyleModel",
          "model_module_version": "1.5.0",
          "state": {
            "_model_module": "@jupyter-widgets/controls",
            "_model_module_version": "1.5.0",
            "_model_name": "DescriptionStyleModel",
            "_view_count": null,
            "_view_module": "@jupyter-widgets/base",
            "_view_module_version": "1.2.0",
            "_view_name": "StyleView",
            "description_width": ""
          }
        }
      }
    }
  },
  "cells": [
    {
      "cell_type": "markdown",
      "metadata": {
        "id": "view-in-github",
        "colab_type": "text"
      },
      "source": [
        "<a href=\"https://colab.research.google.com/github/vaisour19/WIKI_SEARCH_ENGINE/blob/main/Context_BASED_SEARCH_ENGINE.ipynb\" target=\"_parent\"><img src=\"https://colab.research.google.com/assets/colab-badge.svg\" alt=\"Open In Colab\"/></a>"
      ]
    },
    {
      "cell_type": "code",
      "execution_count": null,
      "metadata": {
        "colab": {
          "base_uri": "https://localhost:8080/"
        },
        "id": "p3MqtORYr_lU",
        "outputId": "3aed771d-859e-4048-a740-c8f60311bcf4"
      },
      "outputs": [
        {
          "output_type": "stream",
          "name": "stdout",
          "text": [
            "Requirement already satisfied: sentence-transformers in /usr/local/lib/python3.11/dist-packages (3.4.0)\n",
            "Requirement already satisfied: transformers<5.0.0,>=4.41.0 in /usr/local/lib/python3.11/dist-packages (from sentence-transformers) (4.47.1)\n",
            "Requirement already satisfied: tqdm in /usr/local/lib/python3.11/dist-packages (from sentence-transformers) (4.67.1)\n",
            "Requirement already satisfied: torch>=1.11.0 in /usr/local/lib/python3.11/dist-packages (from sentence-transformers) (2.5.1+cu121)\n",
            "Requirement already satisfied: scikit-learn in /usr/local/lib/python3.11/dist-packages (from sentence-transformers) (1.6.1)\n",
            "Requirement already satisfied: scipy in /usr/local/lib/python3.11/dist-packages (from sentence-transformers) (1.13.1)\n",
            "Requirement already satisfied: huggingface-hub>=0.20.0 in /usr/local/lib/python3.11/dist-packages (from sentence-transformers) (0.27.1)\n",
            "Requirement already satisfied: Pillow in /usr/local/lib/python3.11/dist-packages (from sentence-transformers) (11.1.0)\n",
            "Requirement already satisfied: filelock in /usr/local/lib/python3.11/dist-packages (from huggingface-hub>=0.20.0->sentence-transformers) (3.17.0)\n",
            "Requirement already satisfied: fsspec>=2023.5.0 in /usr/local/lib/python3.11/dist-packages (from huggingface-hub>=0.20.0->sentence-transformers) (2024.10.0)\n",
            "Requirement already satisfied: packaging>=20.9 in /usr/local/lib/python3.11/dist-packages (from huggingface-hub>=0.20.0->sentence-transformers) (24.2)\n",
            "Requirement already satisfied: pyyaml>=5.1 in /usr/local/lib/python3.11/dist-packages (from huggingface-hub>=0.20.0->sentence-transformers) (6.0.2)\n",
            "Requirement already satisfied: requests in /usr/local/lib/python3.11/dist-packages (from huggingface-hub>=0.20.0->sentence-transformers) (2.32.3)\n",
            "Requirement already satisfied: typing-extensions>=3.7.4.3 in /usr/local/lib/python3.11/dist-packages (from huggingface-hub>=0.20.0->sentence-transformers) (4.12.2)\n",
            "Requirement already satisfied: networkx in /usr/local/lib/python3.11/dist-packages (from torch>=1.11.0->sentence-transformers) (3.4.2)\n",
            "Requirement already satisfied: jinja2 in /usr/local/lib/python3.11/dist-packages (from torch>=1.11.0->sentence-transformers) (3.1.5)\n",
            "Requirement already satisfied: nvidia-cuda-nvrtc-cu12==12.1.105 in /usr/local/lib/python3.11/dist-packages (from torch>=1.11.0->sentence-transformers) (12.1.105)\n",
            "Requirement already satisfied: nvidia-cuda-runtime-cu12==12.1.105 in /usr/local/lib/python3.11/dist-packages (from torch>=1.11.0->sentence-transformers) (12.1.105)\n",
            "Requirement already satisfied: nvidia-cuda-cupti-cu12==12.1.105 in /usr/local/lib/python3.11/dist-packages (from torch>=1.11.0->sentence-transformers) (12.1.105)\n",
            "Requirement already satisfied: nvidia-cudnn-cu12==9.1.0.70 in /usr/local/lib/python3.11/dist-packages (from torch>=1.11.0->sentence-transformers) (9.1.0.70)\n",
            "Requirement already satisfied: nvidia-cublas-cu12==12.1.3.1 in /usr/local/lib/python3.11/dist-packages (from torch>=1.11.0->sentence-transformers) (12.1.3.1)\n",
            "Requirement already satisfied: nvidia-cufft-cu12==11.0.2.54 in /usr/local/lib/python3.11/dist-packages (from torch>=1.11.0->sentence-transformers) (11.0.2.54)\n",
            "Requirement already satisfied: nvidia-curand-cu12==10.3.2.106 in /usr/local/lib/python3.11/dist-packages (from torch>=1.11.0->sentence-transformers) (10.3.2.106)\n",
            "Requirement already satisfied: nvidia-cusolver-cu12==11.4.5.107 in /usr/local/lib/python3.11/dist-packages (from torch>=1.11.0->sentence-transformers) (11.4.5.107)\n",
            "Requirement already satisfied: nvidia-cusparse-cu12==12.1.0.106 in /usr/local/lib/python3.11/dist-packages (from torch>=1.11.0->sentence-transformers) (12.1.0.106)\n",
            "Requirement already satisfied: nvidia-nccl-cu12==2.21.5 in /usr/local/lib/python3.11/dist-packages (from torch>=1.11.0->sentence-transformers) (2.21.5)\n",
            "Requirement already satisfied: nvidia-nvtx-cu12==12.1.105 in /usr/local/lib/python3.11/dist-packages (from torch>=1.11.0->sentence-transformers) (12.1.105)\n",
            "Requirement already satisfied: triton==3.1.0 in /usr/local/lib/python3.11/dist-packages (from torch>=1.11.0->sentence-transformers) (3.1.0)\n",
            "Requirement already satisfied: sympy==1.13.1 in /usr/local/lib/python3.11/dist-packages (from torch>=1.11.0->sentence-transformers) (1.13.1)\n",
            "Requirement already satisfied: nvidia-nvjitlink-cu12 in /usr/local/lib/python3.11/dist-packages (from nvidia-cusolver-cu12==11.4.5.107->torch>=1.11.0->sentence-transformers) (12.6.85)\n",
            "Requirement already satisfied: mpmath<1.4,>=1.1.0 in /usr/local/lib/python3.11/dist-packages (from sympy==1.13.1->torch>=1.11.0->sentence-transformers) (1.3.0)\n",
            "Requirement already satisfied: numpy>=1.17 in /usr/local/lib/python3.11/dist-packages (from transformers<5.0.0,>=4.41.0->sentence-transformers) (1.26.4)\n",
            "Requirement already satisfied: regex!=2019.12.17 in /usr/local/lib/python3.11/dist-packages (from transformers<5.0.0,>=4.41.0->sentence-transformers) (2024.11.6)\n",
            "Requirement already satisfied: tokenizers<0.22,>=0.21 in /usr/local/lib/python3.11/dist-packages (from transformers<5.0.0,>=4.41.0->sentence-transformers) (0.21.0)\n",
            "Requirement already satisfied: safetensors>=0.4.1 in /usr/local/lib/python3.11/dist-packages (from transformers<5.0.0,>=4.41.0->sentence-transformers) (0.5.2)\n",
            "Requirement already satisfied: joblib>=1.2.0 in /usr/local/lib/python3.11/dist-packages (from scikit-learn->sentence-transformers) (1.4.2)\n",
            "Requirement already satisfied: threadpoolctl>=3.1.0 in /usr/local/lib/python3.11/dist-packages (from scikit-learn->sentence-transformers) (3.5.0)\n",
            "Requirement already satisfied: MarkupSafe>=2.0 in /usr/local/lib/python3.11/dist-packages (from jinja2->torch>=1.11.0->sentence-transformers) (3.0.2)\n",
            "Requirement already satisfied: charset-normalizer<4,>=2 in /usr/local/lib/python3.11/dist-packages (from requests->huggingface-hub>=0.20.0->sentence-transformers) (3.4.1)\n",
            "Requirement already satisfied: idna<4,>=2.5 in /usr/local/lib/python3.11/dist-packages (from requests->huggingface-hub>=0.20.0->sentence-transformers) (3.10)\n",
            "Requirement already satisfied: urllib3<3,>=1.21.1 in /usr/local/lib/python3.11/dist-packages (from requests->huggingface-hub>=0.20.0->sentence-transformers) (2.3.0)\n",
            "Requirement already satisfied: certifi>=2017.4.17 in /usr/local/lib/python3.11/dist-packages (from requests->huggingface-hub>=0.20.0->sentence-transformers) (2024.12.14)\n"
          ]
        }
      ],
      "source": [
        "!pip install -U sentence-transformers"
      ]
    },
    {
      "cell_type": "markdown",
      "source": [
        "LOADING WIKIPEDIA DATASET INTO THE SEARCH ENGINE"
      ],
      "metadata": {
        "id": "o0d_UTjKvZW1"
      }
    },
    {
      "cell_type": "code",
      "source": [
        "import json\n",
        "from sentence_transformers import SentenceTransformer, util\n",
        "import torch\n",
        "import gzip\n",
        "import os"
      ],
      "metadata": {
        "id": "MEeHTDe5sFT-"
      },
      "execution_count": null,
      "outputs": []
    },
    {
      "cell_type": "markdown",
      "source": [
        "As dataset we use simple English Wikipedia"
      ],
      "metadata": {
        "id": "24IUi2omvxCN"
      }
    },
    {
      "cell_type": "code",
      "source": [
        "wiki_filepath = 'simplewiki-2020-11-01.jsonl.gz'\n",
        "\n",
        "#it checks if the file is present loally if not it will download from the link given below using http_get\n",
        "\n",
        "if not os.path.exists(wiki_filepath):\n",
        "  util.http_get('http://sbert.net/datasets/simplewiki-2020-11-01.jsonl.gz' , wiki_filepath)"
      ],
      "metadata": {
        "id": "MlJDYeO-vq5G"
      },
      "execution_count": null,
      "outputs": []
    },
    {
      "cell_type": "code",
      "source": [
        "passages = []\n",
        "with gzip.open(wiki_filepath, 'rt', encoding='utf8') as fIn:\n",
        "    for line in fIn:\n",
        "        data = json.loads(line.strip())\n",
        "\n",
        "        # Add all paragraphs\n",
        "        # passages.extend(data['paragraphs'])\n",
        "\n",
        "        # Only add the first paragraph\n",
        "        passages.append(data['paragraphs'][0])\n",
        "\n",
        "print(\"Passages:\", len(passages))"
      ],
      "metadata": {
        "colab": {
          "base_uri": "https://localhost:8080/"
        },
        "id": "nlQefI4ax0Ag",
        "outputId": "ce599958-e63b-4130-bbe1-91b5fdba3f13"
      },
      "execution_count": null,
      "outputs": [
        {
          "output_type": "stream",
          "name": "stdout",
          "text": [
            "Passages: 169597\n"
          ]
        }
      ]
    },
    {
      "cell_type": "markdown",
      "source": [
        "sample document"
      ],
      "metadata": {
        "id": "KWZOjkm00qAl"
      }
    },
    {
      "cell_type": "code",
      "source": [
        "passages[100]"
      ],
      "metadata": {
        "colab": {
          "base_uri": "https://localhost:8080/",
          "height": 53
        },
        "id": "Tp3SqeX-0jWn",
        "outputId": "62d28dd3-cd08-41b7-e361-1bde7758e7e9"
      },
      "execution_count": null,
      "outputs": [
        {
          "output_type": "execute_result",
          "data": {
            "text/plain": [
              "'Hurricane Fabian was a powerful Cape Verde-type hurricane that hit Bermuda in early September during the 2003 Atlantic hurricane season. Fabian was the sixth named storm, fourth hurricane, and first major hurricane of the season.'"
            ],
            "application/vnd.google.colaboratory.intrinsic+json": {
              "type": "string"
            }
          },
          "metadata": {},
          "execution_count": 53
        }
      ]
    },
    {
      "cell_type": "markdown",
      "source": [
        "load a transformer model"
      ],
      "metadata": {
        "id": "Nr42Saj805RF"
      }
    },
    {
      "cell_type": "code",
      "source": [
        "\n",
        "from sentence_transformers import CrossEncoder\n",
        "\n",
        "if not torch.cuda.is_available():\n",
        "    print(\"Warning: No GPU found. Neural search will be slow.\")\n",
        "\n",
        "#we use bi encoder to encode all passages so that we can perform semantic search on tnem\n",
        "bi_encoder = SentenceTransformer('multi-qa-MiniLM-L6-cos-v1')\n",
        "\n",
        "#then we use cross encoder to rerank result and improve quality\n",
        "cross_encoderf = CrossEncoder('cross-encoder/ms-marco-MiniLM-L-6-v2')\n"
      ],
      "metadata": {
        "id": "g-uHk7PL07zt"
      },
      "execution_count": null,
      "outputs": []
    },
    {
      "cell_type": "markdown",
      "source": [
        "We embed the documents"
      ],
      "metadata": {
        "id": "wNbzPXWJ34b-"
      }
    },
    {
      "cell_type": "code",
      "source": [
        "passage_embeddings = bi_encoder.encode(passages, convert_to_tensor=True, show_progress_bar=True)"
      ],
      "metadata": {
        "colab": {
          "base_uri": "https://localhost:8080/",
          "height": 49,
          "referenced_widgets": [
            "47335d23a6ab46038af03ccb27b89d25",
            "7cbfd58debf84ad8ad95820278ece7c0",
            "f74a3020d6ee4441980281bd08a391ea",
            "c275ddeab64946b3bd5aaf98b47b6b47",
            "dbf0c68bc3e743558298e7c5457bd3dc",
            "c02d0bdbf4cf453a822c1ad5156db6c0",
            "bf94cc26715040a88e2af159ffa95946",
            "b9c423caa7ba4a0dae35bbc0b6da6bf7",
            "49f2d8ded3334622999a5f18b0ea8b92",
            "4256ad3d6b9a4c2c96704ca774821eb2",
            "2af1fe3ac20f4e4487089456e0ce78a4"
          ]
        },
        "id": "veisKap_3cSm",
        "outputId": "ba59c485-f52f-4c81-c07d-c7f9050c0186"
      },
      "execution_count": null,
      "outputs": [
        {
          "output_type": "display_data",
          "data": {
            "text/plain": [
              "Batches:   0%|          | 0/5300 [00:00<?, ?it/s]"
            ],
            "application/vnd.jupyter.widget-view+json": {
              "version_major": 2,
              "version_minor": 0,
              "model_id": "47335d23a6ab46038af03ccb27b89d25"
            }
          },
          "metadata": {}
        }
      ]
    },
    {
      "cell_type": "code",
      "source": [
        "passage_embeddings[100]"
      ],
      "metadata": {
        "colab": {
          "base_uri": "https://localhost:8080/"
        },
        "id": "PkoDQJqg4Iun",
        "outputId": "c30cc9d1-1041-4172-8d3d-c44dcdeeb938"
      },
      "execution_count": null,
      "outputs": [
        {
          "output_type": "execute_result",
          "data": {
            "text/plain": [
              "tensor([ 6.7026e-03,  7.7242e-02, -4.0781e-02,  3.4449e-02,  1.0008e-01,\n",
              "        -7.7398e-03, -7.1532e-02,  3.3724e-02, -2.0213e-02,  2.2111e-02,\n",
              "         1.6617e-02,  1.4158e-02,  1.0117e-01, -5.6038e-02,  6.7868e-02,\n",
              "         3.1638e-03, -2.7807e-02, -7.2358e-02,  7.1224e-03,  8.2638e-02,\n",
              "        -5.6906e-02,  2.6739e-02, -1.3058e-02,  1.7890e-02, -1.5990e-02,\n",
              "         7.8454e-02, -2.9128e-02,  9.5958e-02, -1.8560e-02, -4.8593e-02,\n",
              "         3.9069e-02,  6.0041e-02,  2.7971e-02,  2.4341e-03,  2.5529e-02,\n",
              "         3.6655e-03,  3.1266e-02,  6.8533e-03, -5.5100e-02,  7.8149e-02,\n",
              "        -2.0497e-02,  1.4029e-02,  5.5703e-02, -6.5600e-02,  2.6484e-02,\n",
              "        -9.3370e-02,  4.4261e-02,  5.6952e-02,  6.4089e-02, -8.6817e-03,\n",
              "        -1.3594e-02, -2.9124e-02, -2.5316e-02, -1.2725e-01, -4.1205e-03,\n",
              "         4.3042e-02,  3.1977e-03,  3.2230e-02,  4.2784e-02,  4.5114e-02,\n",
              "        -1.8544e-02,  5.9338e-02, -8.7942e-02,  1.7911e-02, -8.5897e-03,\n",
              "        -1.6148e-02, -1.9721e-02,  2.2814e-02, -3.0283e-02,  8.2939e-02,\n",
              "         5.1228e-02, -2.2400e-02,  5.8463e-02, -3.8892e-02,  3.1888e-02,\n",
              "        -3.3111e-02,  6.1599e-02,  3.7196e-03, -8.4494e-02, -2.3655e-02,\n",
              "        -4.6782e-02,  1.1099e-02, -2.6085e-02, -1.0200e-01,  7.5478e-02,\n",
              "        -1.7527e-02,  2.9863e-02, -5.8267e-04,  3.7408e-02,  5.8912e-02,\n",
              "         1.7916e-02,  4.0166e-02,  6.0404e-02, -2.7315e-02, -8.2128e-02,\n",
              "         7.4083e-02,  9.7167e-02, -1.2535e-01,  1.3705e-02,  5.5382e-02,\n",
              "         6.0280e-02, -5.3863e-02,  4.0289e-02,  4.1538e-02,  1.3065e-03,\n",
              "         7.2271e-02,  1.1567e-01,  3.5497e-03, -2.0549e-02,  3.6203e-02,\n",
              "        -2.9391e-02,  2.7112e-02, -4.1818e-02, -1.3692e-01,  2.8084e-02,\n",
              "        -3.8798e-02, -8.4223e-03, -2.9346e-02, -9.8533e-02, -1.4996e-02,\n",
              "        -6.3188e-03, -1.8304e-02,  3.1514e-03,  8.5686e-02,  2.1410e-02,\n",
              "         3.0612e-02,  5.9243e-02,  2.3662e-31, -1.1015e-02,  2.2122e-02,\n",
              "        -5.2314e-02,  9.4963e-03, -4.2023e-02,  6.0541e-02, -1.3552e-02,\n",
              "         7.0320e-02, -6.0348e-02, -2.7400e-02, -3.7202e-02, -3.3605e-02,\n",
              "         2.3538e-03,  2.2773e-02,  4.3214e-02, -2.3492e-03,  9.3284e-03,\n",
              "        -7.9693e-02, -2.9608e-02, -1.9588e-03,  6.0258e-03,  2.6706e-02,\n",
              "        -2.2904e-02, -5.3730e-02,  2.3636e-03,  1.3723e-04,  3.0207e-02,\n",
              "        -6.6493e-02, -5.0088e-03,  4.2759e-02, -2.2615e-02,  4.3832e-02,\n",
              "         6.9050e-02, -3.2830e-02, -7.3845e-02,  6.8758e-02, -3.2052e-02,\n",
              "        -1.3396e-02, -1.5637e-02,  3.2740e-02,  2.9350e-02, -4.0576e-02,\n",
              "        -6.3410e-02,  2.6376e-02,  7.5970e-02, -3.4096e-02,  6.6114e-02,\n",
              "         3.0671e-02,  6.0548e-03, -1.1408e-01, -5.4728e-03,  2.3779e-02,\n",
              "        -5.0131e-03,  4.3421e-02, -7.6598e-02,  1.8693e-02, -1.1938e-02,\n",
              "        -2.7983e-02, -2.4845e-02, -6.6771e-02,  2.4761e-02, -2.0030e-02,\n",
              "         9.7256e-02, -8.4540e-02,  4.9411e-02, -3.0994e-02, -2.8208e-02,\n",
              "         4.2566e-02,  2.5535e-02, -6.0655e-02, -2.1724e-02, -1.6368e-02,\n",
              "         2.1495e-02, -2.8144e-02,  4.6539e-02, -1.3611e-02,  3.5491e-02,\n",
              "         7.8800e-03,  4.4010e-02,  1.1457e-01, -3.8367e-02, -1.7389e-02,\n",
              "         1.1007e-01, -2.4120e-03, -6.8843e-03,  3.0783e-02,  2.3542e-02,\n",
              "         3.5314e-02, -8.7207e-02, -8.3205e-03, -9.9507e-04, -8.9816e-03,\n",
              "         1.1203e-01,  2.0145e-03,  7.5040e-02, -3.5984e-33, -1.6127e-02,\n",
              "         4.4117e-02,  5.8456e-02, -7.4492e-02,  4.2190e-03, -6.0626e-02,\n",
              "        -5.6970e-02, -2.5762e-03, -1.4455e-01, -9.3441e-02, -2.2439e-02,\n",
              "        -1.9455e-02,  3.0407e-02, -8.2124e-02,  3.2501e-02,  4.4734e-02,\n",
              "        -9.1635e-02, -2.3926e-02, -2.6813e-02, -3.5854e-02, -8.6215e-03,\n",
              "        -1.6841e-01,  3.8141e-02, -4.6388e-02, -3.2846e-02,  3.3641e-02,\n",
              "         1.1882e-01,  3.8478e-03,  5.5908e-02, -1.2177e-02, -1.7434e-02,\n",
              "         5.6895e-02,  3.2812e-02, -3.3195e-02,  6.7316e-03,  9.3578e-02,\n",
              "        -1.3175e-01, -2.2360e-02, -5.8244e-02, -1.1809e-02, -3.3947e-02,\n",
              "         3.7518e-03,  2.5586e-04, -2.3262e-04, -7.3391e-03,  1.4227e-02,\n",
              "         5.7695e-02,  3.1377e-02,  6.8139e-02,  2.2693e-02, -6.6037e-03,\n",
              "         5.7826e-02, -9.0936e-02,  1.3936e-01, -5.4007e-04, -5.8930e-02,\n",
              "         2.2472e-02,  1.0644e-02, -3.5695e-02, -2.3480e-02, -8.8195e-02,\n",
              "         8.5613e-02, -4.3016e-03,  1.3713e-02,  6.5996e-02, -2.2344e-02,\n",
              "        -6.1093e-02,  2.0917e-02,  1.3642e-02,  3.9826e-03,  7.0547e-02,\n",
              "         6.8778e-02, -7.1369e-02,  4.9008e-02,  5.2151e-02, -2.6821e-02,\n",
              "        -6.5012e-02, -4.6471e-02, -1.1134e-01,  3.6529e-02, -1.3096e-02,\n",
              "         5.1344e-03, -3.9583e-02,  7.1577e-02, -9.3517e-02, -3.8013e-02,\n",
              "         1.0751e-01, -9.0550e-02, -1.6580e-03, -3.8590e-03,  3.2142e-02,\n",
              "        -1.9551e-03,  3.4129e-02,  2.0984e-02, -4.5320e-02, -4.0594e-33,\n",
              "         2.6172e-02,  6.5587e-03, -2.6178e-02,  1.7925e-02,  5.1861e-02,\n",
              "         7.3591e-02, -4.3616e-02, -6.1770e-02, -5.9401e-02, -1.8824e-02,\n",
              "         1.5046e-02,  1.4153e-02, -3.8555e-02, -1.2649e-02, -2.7608e-02,\n",
              "        -4.7986e-02, -2.2948e-03, -6.9057e-02, -4.8206e-04, -1.0577e-01,\n",
              "         1.0727e-02, -1.3562e-02, -5.3499e-02,  3.7499e-02,  5.5316e-02,\n",
              "         8.2286e-03, -7.8859e-02,  2.4269e-02,  4.3456e-02, -9.7871e-05,\n",
              "        -6.3993e-02, -4.2283e-02, -8.4177e-02, -5.3316e-02,  1.0406e-01,\n",
              "         3.8431e-02,  6.7633e-02, -2.2660e-03, -1.5041e-02, -1.0654e-01,\n",
              "         4.5277e-02,  3.4109e-02,  5.5303e-02, -3.9588e-03, -4.8559e-02,\n",
              "         4.6311e-02, -3.5003e-02, -1.0574e-02,  8.9698e-02, -3.0214e-02,\n",
              "        -3.2375e-02, -1.4536e-03,  2.0894e-02,  7.1959e-02,  4.7081e-03,\n",
              "        -1.4418e-02, -2.1147e-02, -6.7059e-02,  1.5255e-02, -1.0405e-02,\n",
              "        -7.7334e-02, -5.0151e-02, -1.5096e-02, -2.1439e-02], device='cuda:0')"
            ]
          },
          "metadata": {},
          "execution_count": 56
        }
      ]
    },
    {
      "cell_type": "markdown",
      "source": [
        "Now try with a sample search query"
      ],
      "metadata": {
        "id": "ZtEPUcUb4aFW"
      }
    },
    {
      "cell_type": "code",
      "source": [
        "query = 'What is the capital of russia'"
      ],
      "metadata": {
        "id": "TVvhdPlB4db-"
      },
      "execution_count": null,
      "outputs": []
    },
    {
      "cell_type": "code",
      "source": [
        "query_embedding = bi_encoder.encode(query, convert_to_tensor=True)"
      ],
      "metadata": {
        "id": "IypccwPw4te4"
      },
      "execution_count": null,
      "outputs": []
    },
    {
      "cell_type": "code",
      "source": [
        "cos_score = util.cos_sim(query_embedding, passage_embeddings)[0]\n",
        "cos_score"
      ],
      "metadata": {
        "colab": {
          "base_uri": "https://localhost:8080/"
        },
        "id": "G_9wOPzi4xpd",
        "outputId": "0a65a37b-c540-4f01-a035-e2dc5c5e6131"
      },
      "execution_count": null,
      "outputs": [
        {
          "output_type": "execute_result",
          "data": {
            "text/plain": [
              "tensor([-0.0512,  0.0742,  0.0906,  ...,  0.0141, -0.1154,  0.0708],\n",
              "       device='cuda:0')"
            ]
          },
          "metadata": {},
          "execution_count": 59
        }
      ]
    },
    {
      "cell_type": "markdown",
      "source": [
        "get most similar doc"
      ],
      "metadata": {
        "id": "GNlwtthQ4-hI"
      }
    },
    {
      "cell_type": "code",
      "source": [
        "top_result = torch.topk(cos_score, k=1)\n",
        "index = top_result.indices.item()\n",
        "index"
      ],
      "metadata": {
        "colab": {
          "base_uri": "https://localhost:8080/"
        },
        "id": "jT99pug9484W",
        "outputId": "5dc6fdfe-dc63-4cb3-c346-c968ffc1b46e"
      },
      "execution_count": null,
      "outputs": [
        {
          "output_type": "execute_result",
          "data": {
            "text/plain": [
              "6396"
            ]
          },
          "metadata": {},
          "execution_count": 60
        }
      ]
    },
    {
      "cell_type": "code",
      "source": [
        "passages[index]"
      ],
      "metadata": {
        "colab": {
          "base_uri": "https://localhost:8080/",
          "height": 53
        },
        "id": "S8lFGyHo5SAX",
        "outputId": "c1992b66-4e73-4508-d450-568b3b46f2d1"
      },
      "execution_count": null,
      "outputs": [
        {
          "output_type": "execute_result",
          "data": {
            "text/plain": [
              "'Russia (), officially called the Russian Federation () is a country that is in Eastern Europe and in North Asia. It is the largest country in the world by land area. About 146.7 million people live in Russia according to the 2019 census. The capital city of Russia is Moscow, and the official language is Russian.'"
            ],
            "application/vnd.google.colaboratory.intrinsic+json": {
              "type": "string"
            }
          },
          "metadata": {},
          "execution_count": 61
        }
      ]
    },
    {
      "cell_type": "markdown",
      "source": [
        "so it works for russia lets try with india"
      ],
      "metadata": {
        "id": "-useFu495Z8n"
      }
    },
    {
      "cell_type": "code",
      "source": [
        "query = 'What is the capital of india'"
      ],
      "metadata": {
        "id": "G62xv2Fk5emI"
      },
      "execution_count": null,
      "outputs": []
    },
    {
      "cell_type": "code",
      "source": [
        "query_embedding = bi_encoder.encode(query, convert_to_tensor=True)"
      ],
      "metadata": {
        "id": "_zm7tc325lX2"
      },
      "execution_count": null,
      "outputs": []
    },
    {
      "cell_type": "code",
      "source": [
        "cos_score = util.cos_sim(query_embedding, passage_embeddings)[0]\n",
        "cos_score"
      ],
      "metadata": {
        "colab": {
          "base_uri": "https://localhost:8080/"
        },
        "id": "FilLpWVf5mjW",
        "outputId": "c1a4c31c-d692-4fb9-fcf2-5ba2a746f71d"
      },
      "execution_count": null,
      "outputs": [
        {
          "output_type": "execute_result",
          "data": {
            "text/plain": [
              "tensor([-0.1538, -0.0140,  0.1119,  ...,  0.0814, -0.0538,  0.0258],\n",
              "       device='cuda:0')"
            ]
          },
          "metadata": {},
          "execution_count": 64
        }
      ]
    },
    {
      "cell_type": "code",
      "source": [
        "top_result = torch.topk(cos_score, k=1)\n",
        "index = top_result.indices.item()\n",
        "index"
      ],
      "metadata": {
        "colab": {
          "base_uri": "https://localhost:8080/"
        },
        "id": "n_K_FWY-5qne",
        "outputId": "8f306297-6f71-45aa-ac4c-da7341d8a0c4"
      },
      "execution_count": null,
      "outputs": [
        {
          "output_type": "execute_result",
          "data": {
            "text/plain": [
              "3698"
            ]
          },
          "metadata": {},
          "execution_count": 65
        }
      ]
    },
    {
      "cell_type": "code",
      "source": [
        "passages[index]"
      ],
      "metadata": {
        "colab": {
          "base_uri": "https://localhost:8080/",
          "height": 70
        },
        "id": "U9iqe_dm5tQm",
        "outputId": "b37998ed-1c5c-4250-8ebe-cab1d911b848"
      },
      "execution_count": null,
      "outputs": [
        {
          "output_type": "execute_result",
          "data": {
            "text/plain": [
              "\"Mumbai (previously known as Bombay until 1996) is a natural harbor on the west coast of India, and is the capital city of Maharashtra state. It is India's largest city, and one of the world's most populous cities. It is the financial capital of India. The city is the second most-populous in the world. It has approximately 13 million people. Along with the neighboring cities of Navi Mumbai and Thane, it forms the world's 4th largest urban agglomeration. They have around 19.1 million people.\""
            ],
            "application/vnd.google.colaboratory.intrinsic+json": {
              "type": "string"
            }
          },
          "metadata": {},
          "execution_count": 66
        }
      ]
    },
    {
      "cell_type": "markdown",
      "source": [
        "thisgives skewed data so we have to cross-encode and re rank them to get similar doc"
      ],
      "metadata": {
        "id": "-ol-AtCR6gfm"
      }
    },
    {
      "cell_type": "code",
      "source": [
        "hits = util.semantic_search(query_embedding , passage_embeddings , top_k = 1)\n",
        "hits[0]"
      ],
      "metadata": {
        "colab": {
          "base_uri": "https://localhost:8080/"
        },
        "id": "PLKjDrRD6q9v",
        "outputId": "ad69b7b3-6105-49d0-eb83-971e61488540"
      },
      "execution_count": null,
      "outputs": [
        {
          "output_type": "execute_result",
          "data": {
            "text/plain": [
              "[{'corpus_id': 3698, 'score': 0.6484957337379456}]"
            ]
          },
          "metadata": {},
          "execution_count": 67
        }
      ]
    },
    {
      "cell_type": "markdown",
      "source": [
        "So we get the top 30 docs and then we work on it"
      ],
      "metadata": {
        "id": "1RQKytzJ7WlX"
      }
    },
    {
      "cell_type": "code",
      "source": [
        "hits = util.semantic_search(query_embedding , passage_embeddings , top_k = 30)\n",
        "hits"
      ],
      "metadata": {
        "colab": {
          "base_uri": "https://localhost:8080/"
        },
        "id": "VO1vyXYk7SqP",
        "outputId": "a4bcf174-2d17-46fe-ecf2-5306003431c1"
      },
      "execution_count": null,
      "outputs": [
        {
          "output_type": "execute_result",
          "data": {
            "text/plain": [
              "[[{'corpus_id': 3698, 'score': 0.6484957337379456},\n",
              "  {'corpus_id': 134500, 'score': 0.6339941620826721},\n",
              "  {'corpus_id': 22288, 'score': 0.6274536848068237},\n",
              "  {'corpus_id': 41143, 'score': 0.5963889956474304},\n",
              "  {'corpus_id': 3701, 'score': 0.5953089594841003},\n",
              "  {'corpus_id': 16458, 'score': 0.5916082859039307},\n",
              "  {'corpus_id': 7384, 'score': 0.5885171294212341},\n",
              "  {'corpus_id': 24727, 'score': 0.5787838697433472},\n",
              "  {'corpus_id': 104601, 'score': 0.5622392892837524},\n",
              "  {'corpus_id': 94186, 'score': 0.5576584339141846},\n",
              "  {'corpus_id': 16289, 'score': 0.5556299090385437},\n",
              "  {'corpus_id': 106507, 'score': 0.5477286577224731},\n",
              "  {'corpus_id': 41734, 'score': 0.5462822914123535},\n",
              "  {'corpus_id': 165144, 'score': 0.54361891746521},\n",
              "  {'corpus_id': 16301, 'score': 0.5432813167572021},\n",
              "  {'corpus_id': 59414, 'score': 0.5389682650566101},\n",
              "  {'corpus_id': 16284, 'score': 0.5352279543876648},\n",
              "  {'corpus_id': 167027, 'score': 0.5308536887168884},\n",
              "  {'corpus_id': 106505, 'score': 0.5307822823524475},\n",
              "  {'corpus_id': 86509, 'score': 0.5306863784790039},\n",
              "  {'corpus_id': 106503, 'score': 0.5304669141769409},\n",
              "  {'corpus_id': 16291, 'score': 0.529819667339325},\n",
              "  {'corpus_id': 134723, 'score': 0.5284751057624817},\n",
              "  {'corpus_id': 134721, 'score': 0.527771532535553},\n",
              "  {'corpus_id': 16538, 'score': 0.5228256583213806},\n",
              "  {'corpus_id': 58379, 'score': 0.5226696133613586},\n",
              "  {'corpus_id': 106506, 'score': 0.5204448699951172},\n",
              "  {'corpus_id': 14712, 'score': 0.5174809098243713},\n",
              "  {'corpus_id': 16192, 'score': 0.5162914991378784},\n",
              "  {'corpus_id': 3699, 'score': 0.5157662034034729}]]"
            ]
          },
          "metadata": {},
          "execution_count": 68
        }
      ]
    },
    {
      "cell_type": "code",
      "source": [
        "reranker_inp = [[query, passages[hit['corpus_id']]] for hit in hits[0]]\n",
        "reranker_inp"
      ],
      "metadata": {
        "colab": {
          "base_uri": "https://localhost:8080/"
        },
        "id": "RsKahcc38Ck-",
        "outputId": "8273a991-5ec5-4a76-8cd0-06d0ffd9848a"
      },
      "execution_count": null,
      "outputs": [
        {
          "output_type": "execute_result",
          "data": {
            "text/plain": [
              "[['What is the capital of india',\n",
              "  \"Mumbai (previously known as Bombay until 1996) is a natural harbor on the west coast of India, and is the capital city of Maharashtra state. It is India's largest city, and one of the world's most populous cities. It is the financial capital of India. The city is the second most-populous in the world. It has approximately 13 million people. Along with the neighboring cities of Navi Mumbai and Thane, it forms the world's 4th largest urban agglomeration. They have around 19.1 million people.\"],\n",
              " ['What is the capital of india',\n",
              "  'Gandhinagar is the capital city of Gujarat state in India. It is 23\\xa0km from the city of Ahmedabad and 464\\xa0km from Mumbai. In the year 1960, the Bombay state of India was divided into two states - Maharashtra and Gujarat. Bombay (now called Mumbai) became the capital city of Maharashtra. For Gujarat, new capital was needed. Gandhinagar was then made the capital of Gujarat.'],\n",
              " ['What is the capital of india',\n",
              "  \"Kolkata (spelled Calcutta before 1 January 2001) is the capital city of the Indian state of West Bengal. It is the second largest city in India after Mumbai. It is on the east bank of the River Hooghly. When it is called Calcutta, it includes the suburbs. This makes it the third largest city of India. This also makes it the world's 8th largest metropolitan area as defined by the United Nations. Kolkata served as the capital of India during the British Raj until 1911. Kolkata was once the center of industry and education. However, it has witnessed political violence and economic problems since 1954. Since 2000, Kolkata has grown due to economic growth. Like other metropolitan cities in India, Kolkata struggles with poverty, pollution and traffic congestion.\"],\n",
              " ['What is the capital of india',\n",
              "  'Maharashtra () is the name of a state of India. Its language is Marathi. In area it is the third-biggest state of India. Only one Indian state has more people (Uttar Pradesh). Mumbai is the capital of Maharashtra. (The name \"Mumbai\" comes from the original name of the city, Mumbapuri.) Pune is the cultural and educational capital.'],\n",
              " ['What is the capital of india',\n",
              "  'New Delhi () is the capital of India and a union territory of the megacity of Delhi. It has a very old history and is home to several monuments where the city is expensive to live in. In traditional Indian geography it falls under the North Indian zone. The city has an area of about 42.7\\xa0km. New Delhi has a population of about 9.4 Million people.'],\n",
              " ['What is the capital of india',\n",
              "  'Delhi (; \"Dillī\"; \"Dillī\"; \"Dēhlī\"), officially the National Capital Territory of Delhi (NCT), is a territory in India. It includes the country\\'s capital New Delhi. It covers an area of . It is bigger than the Faroe Islands but smaller than Guadeloupe. Delhi is a part of the National Capital Region, which has 12.5 million residents. The governance of Delhi is like that of a state in India. It has its own legislature, high court and a council of executive ministers.'],\n",
              " ['What is the capital of india',\n",
              "  'The Bombay Stock Exchange is a stock exchange in Mumbai, India.'],\n",
              " ['What is the capital of india',\n",
              "  'The National Stock Exchange of India Limited (NSE), is a Mumbai-based stock exchange. It is the biggest stock exchange in India and the third biggest in the world in terms of amounts of transactions. NSE is mutually-owned by a set of leading financial institutions, banks, insurance companies and other financial intermediaries in India but its ownership and management operate as separate groups. As of 2006, the NSE VSAT terminals, 2799 in total, cover more than 1500 cities across India. In July 2007, the NSE had a total market capitalization of 42,74,509 crore INR making it the second-largest stock market in South Asia in terms of market-capitalization.'],\n",
              " ['What is the capital of india',\n",
              "  'Lucknow is the capital city of the north Indian state of Uttar Pradesh. This metro city is the administrative headquarters of Lucknow District and Lucknow Division. Lucknow has always been known as a multicultural city and flourished as a cultural and artistic capital of North India in the 18th and 19th centuries. Today it continues as an important centre of commerce, aerospace, finance pharmaceuticals, technology, design, culture, tourism, music and poetry. Lucknow ranked 6th among all the cities in India for fastest job-creation.'],\n",
              " ['What is the capital of india',\n",
              "  'Rajpath (, meaning \"King\\'s Way\") is the national boulevard of India. It is in New Delhi, the capital of India. The boulevard starts at the home of the President of India and ends at the National Stadium.'],\n",
              " ['What is the capital of india',\n",
              "  'Gujarat (, ) is a state within the Republic of India. Gandhinagar is the capital of Gujarat. This city is named after Mahatma Gandhi. Its area is 75,686 mi² (196,077 km²), excluding the Kori Creek of the Rann of Kachchh: which is disputed by Pakistan , but it includes the Kutch District, in terms of area it is bigger than Syria but smaller than Senegal.'],\n",
              " ['What is the capital of india',\n",
              "  'South West Delhi is one of the eleven administrative districts of the National Capital Territory of Delhi,'],\n",
              " ['What is the capital of india',\n",
              "  \"The Indian Emblem of India is the symbol of the Republic of India, formally called 'National emblem'. It has four lions. The idea for this coat of arms was taken from the Sarnath Lion Capital that was built by Indian emperor Ashoka. It's a pillar in the city of Sarnath. Ashoka built it around 250 BC using a single piece of polished sandstone. The symbol is invariably used on all types of currency notes, passports and coins of India. In the two dimensional view of this symbol, one can see 3 heads (the fourth being hidden from view). It was adopted on 26 January 1950, the day that India became a republic.\"],\n",
              " ['What is the capital of india',\n",
              "  \"Sri Jayawardenepura Kotte is the administrative capital of Sri Lanka since 1970's while Colombo is the financial capital.\"],\n",
              " ['What is the capital of india',\n",
              "  'Rajasthan () or the former : Rajputana is a state in northwestern India. It is the largest state of India in terms of land area; 132,150 mi² or 342,269 km². It is bigger than the Republic of the Congo but smaller than Germany. In traditional India geography it falls under the North Indian zone. The Thar Desert covers most parts of the state. The capital of the state is city of Jaipur.'],\n",
              " ['What is the capital of india',\n",
              "  'Itanagar is the capital of the Indian state of Arunachal Pradesh.'],\n",
              " ['What is the capital of india',\n",
              "  'Madurai is a city in Tamil Nadu, India. It was the capital of the earlier Pandyan Kingdom.'],\n",
              " ['What is the capital of india',\n",
              "  'Udaipur, also called the \"City of Lakes\" or the \"Kashmir of Rajasthan,\" is a major city, municipal corporation and the administrative headquarters of the Udaipur district in the Indian state of Rajasthan. It is the historic capital of the kingdom of Mewar in the former Rajputana Agency. It was founded in 1553 by Maharana Udai Singh of the Sisodia clan of Rajput, when he shifted his capital from the city of Chittorgarh to Udaipur.'],\n",
              " ['What is the capital of india',\n",
              "  'Central Delhi is an administrative district of the National Capital Territory of Delhi, India.'],\n",
              " ['What is the capital of india',\n",
              "  'A capital district, capital region, or capital territory is a district in which the capital of a; state, country or settlement is located.'],\n",
              " ['What is the capital of india',\n",
              "  'North West Delhi is an administrative district of the National Capital Territory of Delhi in India.'],\n",
              " ['What is the capital of india',\n",
              "  'Himachal Pradesh () (Punjabi: ਹਿਮਾਚਲ ਪ੍ਰਦੇਸ਼) is a state in northern India. Shimla is the capital of Himachal Pradesh. It covers an area of 56,019 km² (21,629 mi²), although the border with China is still disputed. The land contains high mountains. In traditional Indian geography it falls under the North Indian zone. It borders the disputed Indian-occupied territory of \"Indian-administered Kashmir\" to the north.'],\n",
              " ['What is the capital of india',\n",
              "  'Bhubaneshwar is the capital city of the Indian state of Odisha. It is the largest city in Odisha. Bhubaneswar means \"lord of the world\". Many temples are present in this city. So, it is also called \"Temple city of India\". It is a religious centre in Orissa from the Middle Ages. It is a planned city of modern India.'],\n",
              " ['What is the capital of india',\n",
              "  'Raipur is the capital city of the Indian state of Chhattisgarh. The state of Chhatisgarh was formed on 1 November 2000. Before this, Raipur was in the state of Madhya Pradesh.'],\n",
              " ['What is the capital of india',\n",
              "  'Chandigarh, also called \"The Beautiful City\", is a city in India. It is a union territory, because it is the capital of two states: Punjab and Haryana. As a territory it does not belong to either state. Before 1 november,1966 it was capital of Punjab, but after formation of Haryana on 1 November, 1966 it become a union territory.There are many tourism places in Chandigarh like Rock garden, Rose garden and Sukhna lake.'],\n",
              " ['What is the capital of india',\n",
              "  'Srinagar () is at the center of the Valley of Kashmir. It is the most populous district in the disputed territory of Jammu and Kashmir, India and is home to the summer capital (Srinagar) of Jammu and Kashmir (the capital moves to Jammu city in the winter). The largest city is Srinagar. It is also home to the scenic Dal Lake, a popular tourist destination.'],\n",
              " ['What is the capital of india',\n",
              "  'South Delhi is an administrative district of the National Capital Territory of Delhi in India.'],\n",
              " ['What is the capital of india',\n",
              "  \"A capital city (or capital town or just capital) is a city or town, specified by law or constitution, by the government of a country, or part of a country, such as a state, province or county. It usually serves as the location of the government's central meeting place and offices. Most of the country's leaders and officials work in the capital city.\"],\n",
              " ['What is the capital of india',\n",
              "  'Kabul is the capital and largest city of Afghanistan.'],\n",
              " ['What is the capital of india',\n",
              "  'Former Bangalore (English pronunciation: ˈbæŋɡəlɔər, bæŋɡəˈlɔər), today again and officially known as Bengaluru () is the capital city of the Indian state of Karnataka. It is famous for its Information technology industry and so it is called the Silicon Valley of India. Today as a large and growing city, Bangalore has many of the most well-recognized colleges and research institutions in India.']]"
            ]
          },
          "metadata": {},
          "execution_count": 69
        }
      ]
    },
    {
      "cell_type": "code",
      "source": [
        "reranker_scores = cross_encoderf.predict(reranker_inp)\n",
        "reranker_scores"
      ],
      "metadata": {
        "colab": {
          "base_uri": "https://localhost:8080/"
        },
        "id": "bDofSL7Z9ZeY",
        "outputId": "6c80c143-75d9-4a7a-bdde-d60b45fca4f3"
      },
      "execution_count": null,
      "outputs": [
        {
          "output_type": "execute_result",
          "data": {
            "text/plain": [
              "array([ 4.912483  ,  3.748391  ,  5.217479  ,  4.219248  ,  8.127115  ,\n",
              "        6.4802094 , -7.848918  , -0.30529726,  3.5967212 ,  3.048223  ,\n",
              "        2.3891191 , -0.38947144,  1.7250693 , -5.7348223 ,  2.3636193 ,\n",
              "        4.246888  , -0.43687913,  0.23689662,  3.7113407 , -0.5231805 ,\n",
              "        2.7924807 ,  2.1485996 ,  4.021082  ,  3.4632556 ,  2.6803677 ,\n",
              "       -0.22952613,  3.053036  ,  2.213655  , -7.492552  ,  3.4043975 ],\n",
              "      dtype=float32)"
            ]
          },
          "metadata": {},
          "execution_count": 70
        }
      ]
    },
    {
      "cell_type": "code",
      "source": [
        "for id , hit in enumerate(hits[0]):\n",
        "  hit['rerankers_score'] = reranker_scores[id]\n",
        "\n",
        "hits[0]"
      ],
      "metadata": {
        "colab": {
          "base_uri": "https://localhost:8080/"
        },
        "id": "wtmHeCYZ98eQ",
        "outputId": "0cf0fd16-cbb1-48c9-c6c1-b000083d2cc8"
      },
      "execution_count": null,
      "outputs": [
        {
          "output_type": "execute_result",
          "data": {
            "text/plain": [
              "[{'corpus_id': 3698, 'score': 0.6484957337379456, 'rerankers_score': 4.912483},\n",
              " {'corpus_id': 134500,\n",
              "  'score': 0.6339941620826721,\n",
              "  'rerankers_score': 3.748391},\n",
              " {'corpus_id': 22288,\n",
              "  'score': 0.6274536848068237,\n",
              "  'rerankers_score': 5.217479},\n",
              " {'corpus_id': 41143,\n",
              "  'score': 0.5963889956474304,\n",
              "  'rerankers_score': 4.219248},\n",
              " {'corpus_id': 3701, 'score': 0.5953089594841003, 'rerankers_score': 8.127115},\n",
              " {'corpus_id': 16458,\n",
              "  'score': 0.5916082859039307,\n",
              "  'rerankers_score': 6.4802094},\n",
              " {'corpus_id': 7384,\n",
              "  'score': 0.5885171294212341,\n",
              "  'rerankers_score': -7.848918},\n",
              " {'corpus_id': 24727,\n",
              "  'score': 0.5787838697433472,\n",
              "  'rerankers_score': -0.30529726},\n",
              " {'corpus_id': 104601,\n",
              "  'score': 0.5622392892837524,\n",
              "  'rerankers_score': 3.5967212},\n",
              " {'corpus_id': 94186,\n",
              "  'score': 0.5576584339141846,\n",
              "  'rerankers_score': 3.048223},\n",
              " {'corpus_id': 16289,\n",
              "  'score': 0.5556299090385437,\n",
              "  'rerankers_score': 2.3891191},\n",
              " {'corpus_id': 106507,\n",
              "  'score': 0.5477286577224731,\n",
              "  'rerankers_score': -0.38947144},\n",
              " {'corpus_id': 41734,\n",
              "  'score': 0.5462822914123535,\n",
              "  'rerankers_score': 1.7250693},\n",
              " {'corpus_id': 165144,\n",
              "  'score': 0.54361891746521,\n",
              "  'rerankers_score': -5.7348223},\n",
              " {'corpus_id': 16301,\n",
              "  'score': 0.5432813167572021,\n",
              "  'rerankers_score': 2.3636193},\n",
              " {'corpus_id': 59414,\n",
              "  'score': 0.5389682650566101,\n",
              "  'rerankers_score': 4.246888},\n",
              " {'corpus_id': 16284,\n",
              "  'score': 0.5352279543876648,\n",
              "  'rerankers_score': -0.43687913},\n",
              " {'corpus_id': 167027,\n",
              "  'score': 0.5308536887168884,\n",
              "  'rerankers_score': 0.23689662},\n",
              " {'corpus_id': 106505,\n",
              "  'score': 0.5307822823524475,\n",
              "  'rerankers_score': 3.7113407},\n",
              " {'corpus_id': 86509,\n",
              "  'score': 0.5306863784790039,\n",
              "  'rerankers_score': -0.5231805},\n",
              " {'corpus_id': 106503,\n",
              "  'score': 0.5304669141769409,\n",
              "  'rerankers_score': 2.7924807},\n",
              " {'corpus_id': 16291,\n",
              "  'score': 0.529819667339325,\n",
              "  'rerankers_score': 2.1485996},\n",
              " {'corpus_id': 134723,\n",
              "  'score': 0.5284751057624817,\n",
              "  'rerankers_score': 4.021082},\n",
              " {'corpus_id': 134721,\n",
              "  'score': 0.527771532535553,\n",
              "  'rerankers_score': 3.4632556},\n",
              " {'corpus_id': 16538,\n",
              "  'score': 0.5228256583213806,\n",
              "  'rerankers_score': 2.6803677},\n",
              " {'corpus_id': 58379,\n",
              "  'score': 0.5226696133613586,\n",
              "  'rerankers_score': -0.22952613},\n",
              " {'corpus_id': 106506,\n",
              "  'score': 0.5204448699951172,\n",
              "  'rerankers_score': 3.053036},\n",
              " {'corpus_id': 14712,\n",
              "  'score': 0.5174809098243713,\n",
              "  'rerankers_score': 2.213655},\n",
              " {'corpus_id': 16192,\n",
              "  'score': 0.5162914991378784,\n",
              "  'rerankers_score': -7.492552},\n",
              " {'corpus_id': 3699,\n",
              "  'score': 0.5157662034034729,\n",
              "  'rerankers_score': 3.4043975}]"
            ]
          },
          "metadata": {},
          "execution_count": 71
        }
      ]
    },
    {
      "cell_type": "code",
      "source": [
        "print(\"Top Bi-Encoder Retrieval hit:\")\n",
        "hit = sorted(hits[0], key=lambda x: x['score'], reverse=True)[0]\n",
        "print(passages[hit['corpus_id']])\n",
        "\n",
        "print(\"Top Reranker Retrieval hit:\")\n",
        "hit = sorted(hits[0], key=lambda x: x['rerankers_score'], reverse=True)[0]\n",
        "print(passages[hit['corpus_id']])\n"
      ],
      "metadata": {
        "colab": {
          "base_uri": "https://localhost:8080/"
        },
        "id": "iXssyINI-QWW",
        "outputId": "bb25a355-9f7a-499f-d89e-058f9a4f0b37"
      },
      "execution_count": null,
      "outputs": [
        {
          "output_type": "stream",
          "name": "stdout",
          "text": [
            "Top Bi-Encoder Retrieval hit:\n",
            "Mumbai (previously known as Bombay until 1996) is a natural harbor on the west coast of India, and is the capital city of Maharashtra state. It is India's largest city, and one of the world's most populous cities. It is the financial capital of India. The city is the second most-populous in the world. It has approximately 13 million people. Along with the neighboring cities of Navi Mumbai and Thane, it forms the world's 4th largest urban agglomeration. They have around 19.1 million people.\n",
            "Top Reranker Retrieval hit:\n",
            "New Delhi () is the capital of India and a union territory of the megacity of Delhi. It has a very old history and is home to several monuments where the city is expensive to live in. In traditional Indian geography it falls under the North Indian zone. The city has an area of about 42.7 km. New Delhi has a population of about 9.4 Million people.\n"
          ]
        }
      ]
    },
    {
      "cell_type": "code",
      "source": [
        "# prompt: turn the above code into function please not the entire thing just the taking in of query and working on it part\n",
        "\n",
        "def search_wikipedia(query):\n",
        "    query_embedding = bi_encoder.encode(query, convert_to_tensor=True)\n",
        "    hits = util.semantic_search(query_embedding, passage_embeddings, top_k=30)\n",
        "    reranker_inp = [[query, passages[hit['corpus_id']]] for hit in hits[0]]\n",
        "    reranker_scores = cross_encoderf.predict(reranker_inp)\n",
        "    for id, hit in enumerate(hits[0]):\n",
        "        hit['rerankers_score'] = reranker_scores[id]\n",
        "\n",
        "    print(\"Top Bi-Encoder Retrieval hit:\")\n",
        "    hit = sorted(hits[0], key=lambda x: x['score'], reverse=True)[0]\n",
        "    print(passages[hit['corpus_id']])\n",
        "\n",
        "    print(\"Top Reranker Retrieval hit:\")\n",
        "    hit = sorted(hits[0], key=lambda x: x['rerankers_score'], reverse=True)[0]\n",
        "    print(passages[hit['corpus_id']])"
      ],
      "metadata": {
        "id": "RO_fTQ7fABpw"
      },
      "execution_count": null,
      "outputs": []
    },
    {
      "cell_type": "code",
      "source": [
        "search_wikipedia('What is an animal')"
      ],
      "metadata": {
        "colab": {
          "base_uri": "https://localhost:8080/"
        },
        "id": "22JOUFzRAStY",
        "outputId": "11ccb2b8-04b4-4a51-e420-ff3a759b5861"
      },
      "execution_count": null,
      "outputs": [
        {
          "output_type": "stream",
          "name": "stdout",
          "text": [
            "Top Bi-Encoder Retrieval hit:\n",
            "A terrestrial animal is an animal that lives on land such as dog, cat, an ant or an emu. It can also be used for some species of amphibians that only go back to the water to lay their eggs. It is usually a term to describe the difference between animals that live in water, (such as lobsters and fish), from animals that live on land.\n",
            "Top Reranker Retrieval hit:\n",
            "Animals is a concept album by English progressive rock band Pink Floyd, released on 23 January 1977 in the United Kingdom and on 2 February 1977 in the United States. The album proved to be a success in the UK, where it reached #2 in the era of punk music. It was also a success in the U.S., reaching #3 on the Billboard album charts (#1 and #2 were \"Hotel California\" by the Eagles, and the soundtrack to the Barbra Streisand film \"A Star Is Born\"). However, it was on the American charts for only six months even though it has continued to sell solidly, to the extent of its having gone quadruple platinum, according to the RIAA.\n"
          ]
        }
      ]
    },
    {
      "cell_type": "code",
      "source": [
        "search_wikipedia('Narendra Modi')"
      ],
      "metadata": {
        "colab": {
          "base_uri": "https://localhost:8080/"
        },
        "id": "BRiJQGQKAcYX",
        "outputId": "90babd1a-291b-47f1-fd39-5836b2b28d67"
      },
      "execution_count": null,
      "outputs": [
        {
          "output_type": "stream",
          "name": "stdout",
          "text": [
            "Top Bi-Encoder Retrieval hit:\n",
            "Narendra Damodardas Modi (born 17 September 1950) is an Indian politician. He is the current Prime Minister of India serving since 2014. He was the 14th Chief Minister of the state of Gujarat. Modi was elected Prime Minister of India in May 2014. He is a member of Bharatiya Janata Party.\n",
            "Top Reranker Retrieval hit:\n",
            "Narendra Damodardas Modi (born 17 September 1950) is an Indian politician. He is the current Prime Minister of India serving since 2014. He was the 14th Chief Minister of the state of Gujarat. Modi was elected Prime Minister of India in May 2014. He is a member of Bharatiya Janata Party.\n"
          ]
        }
      ]
    },
    {
      "cell_type": "code",
      "source": [
        "search_wikipedia('What animal can run fast')"
      ],
      "metadata": {
        "colab": {
          "base_uri": "https://localhost:8080/"
        },
        "id": "xa_QPpkvFHsR",
        "outputId": "de5a1879-efaa-41ce-dc5b-ed469dad4ea3"
      },
      "execution_count": null,
      "outputs": [
        {
          "output_type": "stream",
          "name": "stdout",
          "text": [
            "Top Bi-Encoder Retrieval hit:\n",
            "Running is the way in which people or animals travel quickly on their feet. It is a method of travelling on land. It is different to walking in that both feet are regularly off the ground at the same time. Different terms are used to refer to running according to the speed: jogging is slow, and sprinting is running fast.\n",
            "Top Reranker Retrieval hit:\n",
            "A cheetah (\"Acinonyx jubatus\") is a medium large cat which lives in Africa. It is the fastest land animal and can run up to 112 kilometers per hour for a short time. Most cheetahs live in the savannas of Africa. There are a few in Asia. Cheetahs are active during the day, and hunt in the early morning or late evening.\n"
          ]
        }
      ]
    },
    {
      "cell_type": "code",
      "source": [
        "search_wikipedia('su 30mki')"
      ],
      "metadata": {
        "colab": {
          "base_uri": "https://localhost:8080/"
        },
        "id": "e6tSYalBFsEY",
        "outputId": "c5b3e53b-cb8b-4121-e605-f9deda7d75ba"
      },
      "execution_count": null,
      "outputs": [
        {
          "output_type": "stream",
          "name": "stdout",
          "text": [
            "Top Bi-Encoder Retrieval hit:\n",
            "Sukow is a municipality in the Ludwigslust-Parchim district, in Mecklenburg-Vorpommern, Germany.\n",
            "Top Reranker Retrieval hit:\n",
            "Sukhoi Su-30 is a Russian fighter aircraft. It is developed by Sukhoi Aviation Corporation. It is a 4.5-generation jet fighter aircraft. The aircraft is used by these air forces:\n"
          ]
        }
      ]
    }
  ]
}